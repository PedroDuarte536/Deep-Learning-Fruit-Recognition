{
 "cells": [
  {
   "cell_type": "code",
   "execution_count": 1,
   "id": "40c6a761",
   "metadata": {},
   "outputs": [],
   "source": [
    "import os\n",
    "import random"
   ]
  },
  {
   "cell_type": "code",
   "execution_count": 2,
   "id": "518e7d46",
   "metadata": {},
   "outputs": [],
   "source": [
    "BASE_DATASET_PATH = './dataset'\n",
    "TRAIN_DATASET_PATH = BASE_DATASET_PATH + '/Training'\n",
    "TEST_DATASET_PATH = BASE_DATASET_PATH + '/Test'"
   ]
  },
  {
   "cell_type": "code",
   "execution_count": 3,
   "id": "def23363",
   "metadata": {},
   "outputs": [],
   "source": [
    "def load_images(path: str) -> dict:\n",
    "    images = {}\n",
    "    \n",
    "    for folder in os.listdir(path):\n",
    "        category = folder.split()[0]\n",
    "        folder = path + '/' + folder\n",
    "        if category not in images.keys(): images[category] = []\n",
    "        images[category].append([folder + '/' + file for file in os.listdir(folder)])\n",
    "        \n",
    "    return images"
   ]
  },
  {
   "cell_type": "code",
   "execution_count": 4,
   "id": "ce75f611",
   "metadata": {},
   "outputs": [
    {
     "name": "stdout",
     "output_type": "stream",
     "text": [
      "Train Dataset\n",
      "{'Apple': 6404, 'Tomato': 5103, 'Orange': 479, 'Cocos': 490, 'Kiwi': 466, 'Lemon': 982}\n",
      "\n",
      "Test Dataset\n",
      "{'Apple': 2134, 'Tomato': 1707, 'Orange': 160, 'Cocos': 166, 'Kiwi': 156, 'Lemon': 330}\n"
     ]
    }
   ],
   "source": [
    "train_images = load_images(TRAIN_DATASET_PATH)\n",
    "test_images = load_images(TEST_DATASET_PATH)\n",
    "\n",
    "# Debugging information\n",
    "print('Train Dataset')\n",
    "print({ category: sum([len(ims) for ims in images]) for category, images in train_images.items() })\n",
    "\n",
    "print()\n",
    "\n",
    "print('Test Dataset')\n",
    "print({ category: sum([len(ims) for ims in images]) for category, images in test_images.items() })"
   ]
  },
  {
   "cell_type": "code",
   "execution_count": 5,
   "id": "e078bc6e",
   "metadata": {},
   "outputs": [
    {
     "name": "stdout",
     "output_type": "stream",
     "text": [
      "Train Dataset\n",
      "{'Apple': 466, 'Tomato': 466, 'Orange': 466, 'Cocos': 466, 'Kiwi': 466, 'Lemon': 466}\n"
     ]
    }
   ],
   "source": [
    "# Balance training dataset\n",
    "max_number_collections = max([ len(collections) for collections in train_images.values() ])\n",
    "min_number_samples = min([ sum([len(collection) for collection in collections]) for collections in train_images.values() ])\n",
    "train_images_balanced = { category: [ image for collection in collections for image in random.sample(collection, int(min_number_samples/len(collections))) ] for category, collections in train_images.items() }\n",
    "train_images_balanced = { category: images + random.sample([image for collection in train_images[category] for image in collection if image not in train_images_balanced[category]], min_number_samples - len(train_images_balanced[category])) for category, images in train_images_balanced.items() }\n",
    "\n",
    "# Debugging information\n",
    "print('Train Dataset')\n",
    "print({ category: len(set(images)) for category, images in train_images_balanced.items() })"
   ]
  },
  {
   "cell_type": "code",
   "execution_count": null,
   "id": "c713e9f7",
   "metadata": {},
   "outputs": [],
   "source": [
    "train_dataset = train_images_balanced\n",
    "test_dataset = { category: [ image for collection in collections for image in collection ] for category, collections in test_images.items() }"
   ]
  }
 ],
 "metadata": {
  "kernelspec": {
   "display_name": "Python 3",
   "language": "python",
   "name": "python3"
  },
  "language_info": {
   "codemirror_mode": {
    "name": "ipython",
    "version": 3
   },
   "file_extension": ".py",
   "mimetype": "text/x-python",
   "name": "python",
   "nbconvert_exporter": "python",
   "pygments_lexer": "ipython3",
   "version": "3.8.8"
  }
 },
 "nbformat": 4,
 "nbformat_minor": 5
}
